{
 "cells": [
  {
   "cell_type": "code",
   "execution_count": 2,
   "metadata": {},
   "outputs": [],
   "source": [
    "import requests\n",
    "import json"
   ]
  },
  {
   "cell_type": "code",
   "execution_count": 19,
   "metadata": {},
   "outputs": [
    {
     "name": "stdout",
     "output_type": "stream",
     "text": [
      "{'type': 'record', 'name': 'Value', 'namespace': 'neondb.dm.dim_customer', 'fields': [{'name': 'sk_customer', 'type': {'type': 'int', 'connect.default': 0}, 'default': 0}, {'name': 'customer_id', 'type': ['null', 'int'], 'default': None}, {'name': 'customer_first_name', 'type': ['null', 'string'], 'default': None}, {'name': 'customer_middle_initial_name', 'type': ['null', 'string'], 'default': None}, {'name': 'customer_last_name', 'type': ['null', 'string'], 'default': None}, {'name': 'customer_address', 'type': ['null', 'string'], 'default': None}, {'name': 'customer_city_id', 'type': ['null', 'int'], 'default': None}, {'name': 'customer_city_name', 'type': ['null', 'string'], 'default': None}, {'name': 'customer_zipcode', 'type': ['null', 'string'], 'default': None}, {'name': 'customer_country_id', 'type': ['null', 'int'], 'default': None}, {'name': 'customer_country_name', 'type': ['null', 'string'], 'default': None}, {'name': 'customer_country_code', 'type': ['null', 'string'], 'default': None}, {'name': 'start_date', 'type': [{'type': 'int', 'connect.version': 1, 'connect.default': 0, 'connect.name': 'io.debezium.time.Date'}, 'null'], 'default': 0}, {'name': 'end_date', 'type': ['null', {'type': 'int', 'connect.version': 1, 'connect.name': 'io.debezium.time.Date'}], 'default': None}, {'name': '__deleted', 'type': ['null', 'string'], 'default': None}, {'name': '__op', 'type': ['null', 'string'], 'default': None}, {'name': '__source_ts_ms', 'type': ['null', 'long'], 'default': None}, {'name': '__transaction_id', 'type': ['null', 'string'], 'default': None}], 'connect.name': 'neondb.dm.dim_customer.Value'}\n"
     ]
    }
   ],
   "source": [
    "url = \"http://16.78.248.35:8081/subjects/neondb.dm.dim_customer-value/versions/latest\"\n",
    "#url = \"http://16.78.248.35:8081/subjects/\"\n",
    "response = requests.get(url).json()\n",
    "\n",
    "avro_schema_json = json.loads(response[\"schema\"])\n",
    "\n",
    "#print(\"Status code:\", response.status_code)\n",
    "#print(\"Raw Response:\", response.text)\n",
    "print(avro_schema_json)"
   ]
  },
  {
   "cell_type": "code",
   "execution_count": 5,
   "metadata": {},
   "outputs": [
    {
     "name": "stdout",
     "output_type": "stream",
     "text": [
      "{'error_code': 404, 'message': 'HTTP 404 Not Found'}\n"
     ]
    }
   ],
   "source": [
    "response = requests.get(\"http://16.78.248.35:8081/subject\")\n",
    "\n",
    "print(response.json())"
   ]
  },
  {
   "cell_type": "markdown",
   "metadata": {},
   "source": []
  },
  {
   "cell_type": "markdown",
   "metadata": {},
   "source": []
  }
 ],
 "metadata": {
  "kernelspec": {
   "display_name": "Python 3",
   "language": "python",
   "name": "python3"
  },
  "language_info": {
   "codemirror_mode": {
    "name": "ipython",
    "version": 3
   },
   "file_extension": ".py",
   "mimetype": "text/x-python",
   "name": "python",
   "nbconvert_exporter": "python",
   "pygments_lexer": "ipython3",
   "version": "3.10.12"
  }
 },
 "nbformat": 4,
 "nbformat_minor": 2
}
